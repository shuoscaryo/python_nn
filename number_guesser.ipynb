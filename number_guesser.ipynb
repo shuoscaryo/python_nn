{
  "nbformat": 4,
  "nbformat_minor": 0,
  "metadata": {
    "colab": {
      "provenance": [],
      "toc_visible": true,
      "authorship_tag": "ABX9TyPovNxDNkTOKPQO3VWA3aVd",
      "include_colab_link": true
    },
    "kernelspec": {
      "name": "python3",
      "display_name": "Python 3"
    },
    "language_info": {
      "name": "python"
    }
  },
  "cells": [
    {
      "cell_type": "markdown",
      "metadata": {
        "id": "view-in-github",
        "colab_type": "text"
      },
      "source": [
        "<a href=\"https://colab.research.google.com/github/shuoscaryo/python_nn/blob/main/number_guesser.ipynb\" target=\"_parent\"><img src=\"https://colab.research.google.com/assets/colab-badge.svg\" alt=\"Open In Colab\"/></a>"
      ]
    },
    {
      "cell_type": "code",
      "execution_count": null,
      "metadata": {
        "id": "JpWnpqBoajir"
      },
      "outputs": [],
      "source": [
        "import torch\n",
        "import torch.nn as nn\n",
        "from keras.datasets import mnist"
      ]
    },
    {
      "cell_type": "code",
      "source": [
        "images = mnist.load_data()"
      ],
      "metadata": {
        "id": "9VXLEblVbCIJ"
      },
      "execution_count": null,
      "outputs": []
    },
    {
      "cell_type": "markdown",
      "source": [
        "### SHOW imported images"
      ],
      "metadata": {
        "id": "SEy93QUXtGhm"
      }
    },
    {
      "cell_type": "code",
      "source": [
        "import matplotlib.pyplot as plt\n",
        "\n",
        "# Cargar los datos MNIST\n",
        "(x_train, y_train), (x_test, y_test) = mnist.load_data()\n",
        "\n",
        "# Visualizar algunas imágenes\n",
        "num_images_to_show = 5\n",
        "\n",
        "for i in range(num_images_to_show):\n",
        "    # Mostrar la imagen\n",
        "    plt.imshow(x_train[i], cmap='gray')  # cmap='gray' para mostrar en escala de grises\n",
        "    plt.title(f'Etiqueta: {y_train[i]}')\n",
        "    plt.show()"
      ],
      "metadata": {
        "id": "nW5R5gLUrHcQ"
      },
      "execution_count": null,
      "outputs": []
    },
    {
      "cell_type": "code",
      "source": [],
      "metadata": {
        "id": "n3N9M4TXoiqR"
      },
      "execution_count": null,
      "outputs": []
    },
    {
      "cell_type": "markdown",
      "source": [
        "# Nueva sección"
      ],
      "metadata": {
        "id": "x97fY6bfv3F8"
      }
    }
  ]
}